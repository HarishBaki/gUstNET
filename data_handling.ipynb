{
 "cells": [
  {
   "cell_type": "code",
   "execution_count": 204,
   "metadata": {},
   "outputs": [],
   "source": [
    "import xarray as xr\n",
    "import numpy as np\n",
    "import zarr\n",
    "import pandas as pd\n",
    "\n",
    "import os, sys, time, glob, re\n",
    "\n",
    "seed = 107\n",
    "root_dir = '/data/harish'"
   ]
  },
  {
   "cell_type": "code",
   "execution_count": 230,
   "metadata": {},
   "outputs": [],
   "source": [
    "def RTMA_data_splitting(zarr_path,dates_range,in_times,out_times,opt_test=False):\n",
    "    '''\n",
    "    Since the RTMA data have gaps in it, we have to the standard reference time-series to extract the rolling window samples.\n",
    "    '''\n",
    "    # Define input/output window sizes\n",
    "    in_times = 3   # Example: 24 input hours (1 day)\n",
    "    out_times = 1   # Example: 6 output hours (6-hour prediction)\n",
    "    # create a pandas timetime index for the entire training and validation period\n",
    "    reference_dates = pd.date_range(start=dates_range[0], end=dates_range[1], freq='h')\n",
    "\n",
    "    # Define the input and output time windows\n",
    "    in_steps = pd.Timedelta(hours=in_times)\n",
    "    out_steps = pd.Timedelta(hours=out_times)\n",
    "\n",
    "    # create input and output samples by sliding the input window over the entire training and validation period\n",
    "    in_samples = []\n",
    "    out_samples = []\n",
    "    for i in range(len(reference_dates) - in_times - out_times +1):\n",
    "        in_samples.append(reference_dates[i:i+in_times])\n",
    "        out_samples.append(reference_dates[i+in_times:i+in_times+out_times])\n",
    "    in_samples = np.array(in_samples)\n",
    "    out_samples = np.array(out_samples)\n",
    "    #print(in_samples.shape, out_samples.shape)\n",
    "\n",
    "    # Load the RTMA data time-series\n",
    "    ds = xr.open_zarr(zarr_path)\n",
    "    time_coord = ds.sel(time=slice(*dates_range)).coords['time']\n",
    "\n",
    "    original_times = pd.to_datetime(time_coord.values)\n",
    "    reference_dates = pd.to_datetime(reference_dates)\n",
    "    # Find missing times by comparing the reference and original time series\n",
    "    missing_times = reference_dates.difference(original_times)\n",
    "    #print(f'Missing times: {missing_times}, Total missing times: {len(missing_times)}')\n",
    "    \n",
    "    # Filter out in_samples and out_samples that overlap with missing times\n",
    "    filtered_in_samples = []\n",
    "    filtered_out_samples = []\n",
    "    for in_sample, out_sample in zip(in_samples, out_samples):\n",
    "        # Check if any time in the input or output window is in the missing times\n",
    "        if any(time in missing_times for time in in_sample) or any(time in missing_times for time in out_sample):\n",
    "            continue  # Skip this sample if it contains a missing time\n",
    "        filtered_in_samples.append(in_sample)\n",
    "        filtered_out_samples.append(out_sample)\n",
    "\n",
    "    # Convert filtered samples to numpy arrays\n",
    "    filtered_in_samples = np.array(filtered_in_samples)\n",
    "    filtered_out_samples = np.array(filtered_out_samples)\n",
    "    #print(filtered_in_samples.shape, filtered_out_samples.shape)\n",
    "    \n",
    "    if not opt_test:\n",
    "        years = pd.DatetimeIndex(filtered_in_samples[:, 0]).year\n",
    "        months = pd.DatetimeIndex(filtered_in_samples[:, 0]).month\n",
    "        validation_samples = np.zeros(len(filtered_in_samples), dtype=bool)\n",
    "        for year in np.unique(years):\n",
    "            for month in range(1, 13):\n",
    "                month_indices = np.where((years == year) & (months == month))[0]\n",
    "                if len(month_indices) == 0:\n",
    "                    continue\n",
    "                # Select a random sample from the month\n",
    "                if len(month_indices) >= int(6*24):\n",
    "                    start_index = np.random.choice(len(month_indices) - int(6*24) - 1)\n",
    "                    validation_indices = month_indices[start_index:start_index + int(6*24)]\n",
    "                    validation_samples[validation_indices] = True\n",
    "        \n",
    "        X_train_times = xr.DataArray(filtered_in_samples[~validation_samples], dims=['sample', 'time_window'])\n",
    "        Y_train_times = xr.DataArray(filtered_out_samples[~validation_samples],dims=['sample', 'time_window'])\n",
    "        X_val_times = xr.DataArray(filtered_in_samples[validation_samples],dims=['sample', 'time_window'])\n",
    "        Y_val_times = xr.DataArray(filtered_out_samples[validation_samples],dims=['sample', 'time_window'])\n",
    "        #print(X_train_times.shape, Y_train_times.shape, X_val_times.shape, Y_val_times.shape)\n",
    "        \n",
    "        return X_train_times, Y_train_times, X_val_times, Y_val_times\n",
    "    \n",
    "    else:\n",
    "        X_test_times = xr.DataArray(filtered_in_samples, dims=['sample', 'time_window'])\n",
    "        Y_test_times = xr.DataArray(filtered_out_samples, dims=['sample', 'time_window'])\n",
    "        #print(X_test_times.shape, Y_test_times.shape)\n",
    "        \n",
    "        return X_test_times, Y_test_times"
   ]
  },
  {
   "cell_type": "code",
   "execution_count": 231,
   "metadata": {},
   "outputs": [
    {
     "name": "stdout",
     "output_type": "stream",
     "text": [
      "(43821, 3) (43821, 1)\n",
      "Missing times: DatetimeIndex(['2018-11-05 18:00:00', '2018-11-05 19:00:00',\n",
      "               '2018-11-05 20:00:00', '2018-11-05 21:00:00',\n",
      "               '2018-11-05 22:00:00', '2018-11-05 23:00:00',\n",
      "               '2019-09-18 15:00:00', '2019-12-08 00:00:00',\n",
      "               '2020-01-25 00:00:00', '2020-03-07 18:00:00',\n",
      "               ...\n",
      "               '2021-03-26 14:00:00', '2021-03-26 15:00:00',\n",
      "               '2021-03-26 16:00:00', '2021-03-26 17:00:00',\n",
      "               '2021-03-26 18:00:00', '2021-03-26 19:00:00',\n",
      "               '2021-03-26 20:00:00', '2021-03-26 21:00:00',\n",
      "               '2021-03-26 22:00:00', '2021-03-26 23:00:00'],\n",
      "              dtype='datetime64[ns]', length=131, freq=None), Total missing times: 131\n",
      "(43645, 3) (43645, 1)\n",
      "(35005, 3) (35005, 1) (8640, 3) (8640, 1)\n"
     ]
    }
   ],
   "source": [
    "zarr_path = f'{root_dir}/rtma_i10fg_NYS_subset.zarr'\n",
    "train_val_dates_range = ('2018-01-01T00', '2022-12-31T23')\n",
    "# Define input/output window sizes\n",
    "in_times = 3   # Example: 24 input hours (1 day)\n",
    "out_times = 1   # Example: 6 output hours (6-hour prediction)\n",
    "\n",
    "X_train_times, Y_train_times, X_val_times, Y_val_times = RTMA_data_splitting(zarr_path,train_val_dates_range,in_times,out_times,opt_test=False)"
   ]
  },
  {
   "cell_type": "code",
   "execution_count": 233,
   "metadata": {},
   "outputs": [
    {
     "name": "stdout",
     "output_type": "stream",
     "text": [
      "(8757, 3) (8757, 1)\n",
      "Missing times: DatetimeIndex([], dtype='datetime64[ns]', freq='h'), Total missing times: 0\n",
      "(8757, 3) (8757, 1)\n",
      "(8757, 3) (8757, 1)\n"
     ]
    }
   ],
   "source": [
    "zarr_path = f'{root_dir}/rtma_i10fg_NYS_subset.zarr'\n",
    "test_dates_range = ('2023-01-01T00', '2023-12-31T23')\n",
    "# Define input/output window sizes\n",
    "in_times = 3   # Example: 24 input hours (1 day)\n",
    "out_times = 1   # Example: 6 output hours (6-hour prediction)\n",
    "\n",
    "X_test_times, Y_test_times = RTMA_data_splitting(zarr_path,test_dates_range,in_times,out_times,opt_test=True)"
   ]
  },
  {
   "cell_type": "code",
   "execution_count": 240,
   "metadata": {},
   "outputs": [
    {
     "name": "stdout",
     "output_type": "stream",
     "text": [
      "X_train (35005, 256, 384, 3) Y_train (35005, 256, 384, 1) X_val (8640, 256, 384, 3) Y_val (8640, 256, 384, 1) X_test (8757, 256, 384, 3) Y_test (8757, 256, 384, 1)\n"
     ]
    }
   ],
   "source": [
    "ds = xr.open_zarr(zarr_path)\n",
    "data = ds.i10fg#.transpose(..., 'time')\n",
    "X_train = data.sel(time=X_train_times).transpose('sample', 'y', 'x','time_window')\n",
    "Y_train = data.sel(time=Y_train_times).transpose('sample', 'y', 'x','time_window')\n",
    "X_val = data.sel(time=X_val_times).transpose('sample', 'y', 'x','time_window')\n",
    "Y_val = data.sel(time=Y_val_times).transpose('sample', 'y', 'x','time_window')\n",
    "X_test = data.sel(time=X_test_times).transpose('sample', 'y', 'x','time_window')\n",
    "Y_test = data.sel(time=Y_test_times).transpose('sample', 'y', 'x','time_window')\n",
    "\n",
    "print('X_train',X_train.shape, 'Y_train',Y_train.shape, \n",
    "      'X_val',X_val.shape, 'Y_val',Y_val.shape, \n",
    "      'X_test',X_test.shape, 'Y_test',Y_test.shape)"
   ]
  }
 ],
 "metadata": {
  "kernelspec": {
   "display_name": "gUstNET",
   "language": "python",
   "name": "python3"
  },
  "language_info": {
   "codemirror_mode": {
    "name": "ipython",
    "version": 3
   },
   "file_extension": ".py",
   "mimetype": "text/x-python",
   "name": "python",
   "nbconvert_exporter": "python",
   "pygments_lexer": "ipython3",
   "version": "3.9.18"
  }
 },
 "nbformat": 4,
 "nbformat_minor": 2
}
